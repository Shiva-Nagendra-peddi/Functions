{
  "nbformat": 4,
  "nbformat_minor": 0,
  "metadata": {
    "colab": {
      "provenance": []
    },
    "kernelspec": {
      "name": "python3",
      "display_name": "Python 3"
    },
    "language_info": {
      "name": "python"
    }
  },
  "cells": [
    {
      "cell_type": "markdown",
      "source": [
        "1. What is the difference between a function and a method in Python?\n",
        "Ans : Function: A block of reusable code that performs a specific task. It is defined using def and is not bound to an object.\n",
        "\n",
        "Method: A function that is associated with an object (usually a class). It is called on an object and can access or modify its data.\n",
        "\n",
        "Example:\n",
        "# Function Example\n",
        "def greet(name):\n",
        "    return \"Hello \" + name\n",
        "\n",
        "# Method Example\n",
        "name = \"Alice\"\n",
        "print(name.upper())  # upper() is a method of string object\n",
        "\n",
        "2. Explain the concept of function arguments and parameters in Python?\n",
        "Ans :Parameters are variables listed in the function definition.\n",
        "Arguments are values passed to the function when it is called.\n",
        "\n",
        "Example:\n",
        "def greet(name):  # 'name' is a parameter\n",
        "    print(\"Hello\", name)\n",
        "greet(\"Shiva\")  # \"Shiva\" is an argument\n",
        "\n",
        "3. What are the different ways to define and call a function in Python?\n",
        "Ans: Define a function using def or lambda\n",
        "Call a function by using its name followed by parentheses (), optionally with arguments.\n",
        "\n",
        "Example:\n",
        "# Using def\n",
        "def add(a, b):\n",
        "    return a + b\n",
        "print(add(2, 3))\n",
        "\n",
        "# Using lambda\n",
        "add_lambda = lambda a, b: a + b\n",
        "print(add_lambda(2, 3))\n",
        "\n",
        "4. What is the purpose of the return statement in a Python function?\n",
        "Ans: It ends the function execution and sends a value back to the caller.\n",
        "Without return, the function returns None by default.\n",
        "\n",
        "Example:\n",
        "def square(x):\n",
        "    return x * x\n",
        "\n",
        "result = square(4)\n",
        "print(result)\n",
        "\n",
        "5. What are iterators in Python and how do they differ from iterables?\n",
        "Ans: Iterable: An object capable of returning its members one at a time (like lists, tuples, strings).\n",
        "Iterator: An object that implements __iter__() and __next__() methods.\n",
        "\n",
        "Example:\n",
        "my_list = [1, 2, 3]       # Iterable\n",
        "my_iter = iter(my_list)   # Iterator\n",
        "print(next(my_iter))     \n",
        "\n",
        "6. Explain the concept of generators in Python and how they are defined.\n",
        "Ans: Generators are functions that return an iterator and use the yield keyword instead of return.\n",
        "They produce values lazily (one at a time and only when needed).\n",
        "\n",
        "Example:\n",
        "def count_up_to(n):\n",
        "    i = 1\n",
        "    while i <= n:\n",
        "        yield i\n",
        "        i += 1\n",
        "\n",
        "for num in count_up_to(3):\n",
        "    print(num)\n",
        "\n",
        "7. What are the advantages of using generators over regular functions?\n",
        "Ans: Memory efficient: They yield items one by one, not storing the entire sequence in memory.\n",
        "Faster in some cases due to lazy evaluation.\n",
        "Useful for working with large data streams or infinite sequences.\n",
        "\n",
        "Example: Reading large files line by line using a generator.\n",
        "def read_large_file(file_name):\n",
        "    with open(file_name) as f:\n",
        "        for line in f:\n",
        "            yield line\n",
        "\n",
        "8. What is a lambda function in Python and when is it typically used?\n",
        "Ans: Lambda function is an anonymous, single-expression function defined using the lambda keyword.\n",
        "Used when a simple function is required temporarily, often as an argument to higher-order functions.\n",
        "\n",
        "Example:\n",
        "square = lambda x: x * x\n",
        "print(square(5))\n",
        "\n",
        "9. Explain the purpose and usage of the map() function in Python.\n",
        "Ans: Applies a given function to all items in an iterable and returns a map object (an iterator).\n",
        "\n",
        "Example:\n",
        "nums = [1, 2, 3]\n",
        "squared = map(lambda x: x**2, nums)\n",
        "print(list(squared))\n",
        "\n",
        "10. What is the difference between map(), reduce(), and filter() functions in Python?\n",
        "Ans: Function\tPurpose\tReturns\tExample\n",
        "map()\tApplies function to all elements\tMap object (iterator)\tmap(lambda x: x*2, [1, 2]) → [2, 4]\n",
        "filter()\tFilters elements based on condition\tFilter object\tfilter(lambda x: x > 2, [1, 2, 3]) → [3]\n",
        "reduce()\tApplies function cumulatively to elements\tSingle value\treduce(lambda x, y: x + y, [1, 2, 3]) → 6\n",
        "\n",
        "Note: reduce() needs to be imported from functools.\n",
        "\n",
        "Example:\n",
        "nums = [1, 2, 3, 4]\n",
        "sum_all = reduce(lambda x, y: x + y, nums)\n",
        "print(sum_all)\n",
        "\n",
        "11. Using pen & Paper write the internal mechanism for sum operation using  reduce function on this given\n",
        "list:[47,11,42,13].\n",
        "\n",
        "\n",
        "\n",
        "\n",
        "\n",
        "\n"
      ],
      "metadata": {
        "id": "-0rTslUJoa20"
      }
    },
    {
      "cell_type": "code",
      "execution_count": 4,
      "metadata": {
        "id": "C_lFKUOfoTzN"
      },
      "outputs": [],
      "source": [
        "#1. Write a Python function that takes a list of numbers as input and returns the sum of all even numbers in the list.\n",
        "def sum_even_numbers(numbers):\n",
        "    sum_even = 0\n",
        "    for num in numbers:\n",
        "        if num % 2 == 0:\n",
        "            sum_even += num\n",
        "    return sum_even"
      ]
    },
    {
      "cell_type": "code",
      "source": [
        "#2. Create a Python function that accepts a string and returns the reverse of that string.\n",
        "\n",
        "def reverse_string(string):\n",
        "    return string[::-1]\n",
        "print(reverse_string(\"Hello, world!\"))\n"
      ],
      "metadata": {
        "colab": {
          "base_uri": "https://localhost:8080/"
        },
        "id": "cfayM9Rs44U3",
        "outputId": "0c542b83-0ffc-43de-b5bb-dab37a6fa724"
      },
      "execution_count": 8,
      "outputs": [
        {
          "output_type": "stream",
          "name": "stdout",
          "text": [
            "!dlrow ,olleH\n"
          ]
        }
      ]
    },
    {
      "cell_type": "code",
      "source": [
        "#3. Implement a Python function that takes a list of integers and returns a new list containing the squares of each number.\n",
        "\n",
        "def square_numbers(numbers):\n",
        "    squared_numbers = [num ** 2 for num in numbers]\n",
        "    return squared_numbers\n",
        "\n"
      ],
      "metadata": {
        "id": "ZryLpbBK5U4Z"
      },
      "execution_count": 15,
      "outputs": []
    },
    {
      "cell_type": "code",
      "source": [
        "#4. Write a Python function that checks if a given number is prime or not from 1 to 200.\n",
        "\n",
        "def is_prime(number):\n",
        "    if number <= 1:\n",
        "        return False\n",
        "    if number <= 3:\n",
        "        return True\n",
        "    if number % 2 == 0 or number % 3 == 0:\n",
        "        return False"
      ],
      "metadata": {
        "id": "Ya5UFdSz6K2h"
      },
      "execution_count": 26,
      "outputs": []
    },
    {
      "cell_type": "code",
      "source": [
        "#5 5. Create an iterator class in Python that generates the Fibonacci sequence up to a specified number of terms.\n",
        "\n",
        "class FibonacciIterator:\n",
        "    def __init__(self, n):\n",
        "        self.n = n\n",
        "        self.a, self.b = 0, 1"
      ],
      "metadata": {
        "id": "nkxLXh6a602j"
      },
      "execution_count": 29,
      "outputs": []
    },
    {
      "cell_type": "code",
      "source": [
        "#6. Write a generator function in Python that yields the powers of 2 up to a given exponent.\n",
        "\n",
        "def power_of_two(exponent):\n",
        "    for i in range(exponent + 1):\n",
        "        yield 2 ** i"
      ],
      "metadata": {
        "id": "1PqQbDao76aJ"
      },
      "execution_count": 30,
      "outputs": []
    },
    {
      "cell_type": "code",
      "source": [
        "#7. Implement a generator function that reads a file line by line and yields each line as a string.\n",
        "\n",
        "def read_file_line_by_line(file_path):\n",
        "    with open(file_path, 'r') as file:\n",
        "        for line in file:\n",
        "            yield line"
      ],
      "metadata": {
        "id": "O5inhvBk8WJb"
      },
      "execution_count": 31,
      "outputs": []
    },
    {
      "cell_type": "code",
      "source": [
        "#8. Use a lambda function in Python to sort a list of tuples based on the second element of each tuple.\n",
        "data = [('Apple', 50), ('Banana', 20), ('Cherry', 30), ('Date', 20)]\n",
        "sorted_data = sorted(data, key=lambda tup: tup[1])\n"
      ],
      "metadata": {
        "id": "zrIN8tu08bLa"
      },
      "execution_count": 37,
      "outputs": []
    },
    {
      "cell_type": "code",
      "source": [
        "#9. Write a Python program that uses `map()` to convert a list of temperatures from Celsius to Fahrenheit.\n",
        "def convert_celsius_to_fahrenheit(celsius_list):\n",
        "    return list(map(lambda c: (c * 9/5) + 32, celsius_list))\n",
        "\n",
        "temps_c = [0, 10, 20, 30, 37.5]\n",
        "temps_f = convert_celsius_to_fahrenheit(temps_c)\n",
        "print(temps_f)"
      ],
      "metadata": {
        "colab": {
          "base_uri": "https://localhost:8080/"
        },
        "id": "98JK6NRQ8hM3",
        "outputId": "737aa4f4-d33d-4ab2-8382-a73bc9c8e9bc"
      },
      "execution_count": 35,
      "outputs": [
        {
          "output_type": "stream",
          "name": "stdout",
          "text": [
            "[32.0, 50.0, 68.0, 86.0, 99.5]\n"
          ]
        }
      ]
    },
    {
      "cell_type": "code",
      "source": [
        "#10. Create a Python program that uses `filter()` to remove all the vowels from a given string.\n",
        "def remove_vowels(string):\n",
        "    vowels = 'aeiouAEIOU'\n",
        "    return ''.join(filter(lambda char: char not in vowels, string))"
      ],
      "metadata": {
        "id": "RWxwrSmM8zjI"
      },
      "execution_count": 38,
      "outputs": []
    },
    {
      "cell_type": "code",
      "source": [
        "#11. Imagine an accounting routine used in a book shop. It works on a list with sublists, which look like this:\n",
        "#Write a Python program, which returns a list with 2-tuples. Each tuple consists of the order number and the\n",
        "#roduct of the price per item and the quantity. The product should be increased by 10,- € if the value of the\n",
        "#order is smaller than 100,00 €.\n",
        "# Details Took from the Image\n",
        "#Write a Python program using lambda and map.\n",
        "\n",
        "# Sample data from the image\n",
        "orders = [\n",
        "    [34587, \"Learning Python, Mark Lutz\", 4, 40.95],\n",
        "    [98762, \"Programming Python, Mark Lutz\", 5, 56.80],\n",
        "    [77226, \"Head First Python, Paul Barry\", 3, 32.95],\n",
        "    [88112, \"Einführung in Python3, Bernd Klein\", 3, 24.99]\n",
        "]\n",
        "\n",
        "result = list(map(lambda order: (\n",
        "    order[0],\n",
        "    round(order[2] * order[3] + (10 if order[2] * order[3] < 100 else 0), 2)\n",
        "), orders))\n",
        "\n",
        "print(result)\n",
        "\n"
      ],
      "metadata": {
        "colab": {
          "base_uri": "https://localhost:8080/"
        },
        "id": "gRKH-f_XLvHy",
        "outputId": "0c938cea-45cb-40e7-9f8a-96d9371a0a1e"
      },
      "execution_count": 39,
      "outputs": [
        {
          "output_type": "stream",
          "name": "stdout",
          "text": [
            "[(34587, 163.8), (98762, 284.0), (77226, 108.85), (88112, 84.97)]\n"
          ]
        }
      ]
    },
    {
      "cell_type": "code",
      "source": [],
      "metadata": {
        "id": "emhGa3JmNaXK"
      },
      "execution_count": null,
      "outputs": []
    }
  ]
}